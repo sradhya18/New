{
 "cells": [
  {
   "cell_type": "markdown",
   "id": "9f3b8e38",
   "metadata": {},
   "source": [
    "#Object Oriented Programming"
   ]
  },
  {
   "cell_type": "code",
   "execution_count": 5,
   "id": "a29f8901",
   "metadata": {},
   "outputs": [
    {
     "name": "stdout",
     "output_type": "stream",
     "text": [
      "Name: Sradhya\n",
      "None\n"
     ]
    }
   ],
   "source": [
    "class Sample:\n",
    "    name=\"Sradhya\"\n",
    "    \n",
    "    def display(self):\n",
    "        print(\"Name:\",self.name)\n",
    "    \n",
    "s1=Sample()\n",
    "s2=Sample()\n",
    "print(s1.display())"
   ]
  },
  {
   "cell_type": "code",
   "execution_count": 10,
   "id": "1cb9d280",
   "metadata": {},
   "outputs": [
    {
     "name": "stdout",
     "output_type": "stream",
     "text": [
      "init\n",
      "init\n",
      "Sradhya\n",
      "Sradhya\n"
     ]
    }
   ],
   "source": [
    "class Sample:\n",
    "    \n",
    "    def __init__(self):\n",
    "        self.name=\"Sradhya\"\n",
    "        print(\"init\")\n",
    "    \n",
    "    def display(self):\n",
    "        print(self.name)\n",
    "        \n",
    "s1=Sample()\n",
    "s2=Sample()\n",
    "\n",
    "print(s1.name)\n",
    "print(s2.name)"
   ]
  },
  {
   "cell_type": "code",
   "execution_count": 14,
   "id": "a7aad0d2",
   "metadata": {},
   "outputs": [
    {
     "name": "stdout",
     "output_type": "stream",
     "text": [
      "Sradhya 18\n",
      "Sradhya 18\n"
     ]
    }
   ],
   "source": [
    "class Student:\n",
    "    def __init__(self,name,age):\n",
    "            self.name=name\n",
    "            self.age=age\n",
    "    \n",
    "    def display(self):\n",
    "        print(self.name,self.age)\n",
    "            \n",
    "s1=Student(\"Sradhya\",18)\n",
    "print(s1.name,s1.age)\n",
    "s1.display()"
   ]
  },
  {
   "cell_type": "code",
   "execution_count": 20,
   "id": "93a85871",
   "metadata": {},
   "outputs": [
    {
     "name": "stdout",
     "output_type": "stream",
     "text": [
      "name: ABC age: 24 Stream: Engineer Salary: 100000\n"
     ]
    }
   ],
   "source": [
    "class Employee:\n",
    "    def __init__(self,name,age,stream,sal):\n",
    "        self.name=name\n",
    "        self.age=age\n",
    "        self.stream=stream\n",
    "        self.sal=sal\n",
    "        \n",
    "    \n",
    "    def display(self):\n",
    "         print(\"name:\",self.name,\"age:\",self.age,\"Stream:\",self.stream,\"Salary:\",self.sal)\n",
    "            \n",
    "e=Employee(\"ABC\",24,\"Engineer\",100000)\n",
    "e.display()"
   ]
  },
  {
   "cell_type": "markdown",
   "id": "fe075752",
   "metadata": {},
   "source": [
    "#Inheritance"
   ]
  },
  {
   "cell_type": "code",
   "execution_count": 23,
   "id": "96ee3f8d",
   "metadata": {},
   "outputs": [
    {
     "name": "stdout",
     "output_type": "stream",
     "text": [
      "__init__\n",
      "__init__\n",
      "Bark\n",
      "Hello\n"
     ]
    }
   ],
   "source": [
    "class Animal:\n",
    "    \n",
    "    def __init__(self,name):\n",
    "        self.name=name\n",
    "        print('__init__')\n",
    "    def speak(self):\n",
    "        pass\n",
    "    \n",
    "class Sample:\n",
    "    \n",
    "    def hello(self):\n",
    "        print(\"Hello\")\n",
    "        \n",
    "class Dog(Animal,Sample):\n",
    "    \n",
    "    def speak(self):\n",
    "        print(\"Bark\")\n",
    "    \n",
    "a1=Animal(\"Dog\")\n",
    "\n",
    "d=Dog(\"Lab\")\n",
    "d.speak()\n",
    "d.hello()"
   ]
  },
  {
   "cell_type": "code",
   "execution_count": 27,
   "id": "abee201f",
   "metadata": {},
   "outputs": [
    {
     "name": "stdout",
     "output_type": "stream",
     "text": [
      "Hello\n",
      "Mammal\n",
      "Hello from mammal\n"
     ]
    }
   ],
   "source": [
    "class Animal:\n",
    "    \n",
    "    def __init__(self,name):\n",
    "        self.name=name\n",
    "        \n",
    "    def hello(self):\n",
    "        print(\"Hello\")\n",
    "        \n",
    "class Mammal(Animal):\n",
    "    \n",
    "    def __init__(self):\n",
    "        print(\"Mammal\")\n",
    "    \n",
    "    def hello(self):\n",
    "        print(\"Hello from mammal\")\n",
    "        \n",
    "        \n",
    "a1=Animal(\"Dog\")\n",
    "a1.hello()       \n",
    "\n",
    "m1=Mammal()\n",
    "m1.hello()"
   ]
  },
  {
   "cell_type": "code",
   "execution_count": 31,
   "id": "c9978de0",
   "metadata": {},
   "outputs": [
    {
     "name": "stdout",
     "output_type": "stream",
     "text": [
      "Nikitha 18 4566\n",
      "Sradhya 18\n"
     ]
    }
   ],
   "source": [
    "class Person:\n",
    "    def __init__(self,name,age,id):\n",
    "        self.name = name\n",
    "        self.age = age\n",
    "        self.id = id\n",
    "       \n",
    "    def display_data(self):\n",
    "        print(self.name, self.age, self.id)\n",
    "\n",
    "class Employee(Person):\n",
    "    def  display_data(self):\n",
    "        print(self.name, self.age)\n",
    "        #super().display_data()\n",
    "       \n",
    "s1=Person(\"Nikitha\", 18, 4566)\n",
    "s1.display_data()\n",
    "\n",
    "m1 = Employee(\"Sradhya\",18, 8991)\n",
    "m1.display_data()"
   ]
  },
  {
   "cell_type": "code",
   "execution_count": 33,
   "id": "69208899",
   "metadata": {},
   "outputs": [
    {
     "name": "stdout",
     "output_type": "stream",
     "text": [
      "Tikku has fur\n"
     ]
    }
   ],
   "source": [
    "class Animal:\n",
    "    \n",
    "    def __init__(self,name):\n",
    "        self.name=name\n",
    "        \n",
    "    def info(self):\n",
    "        print(self.name)\n",
    "\n",
    "class Mammal(Animal):\n",
    "    def __init__(self,name,has_fur):\n",
    "        self.has_fur=has_fur\n",
    "        super().__init__(name)\n",
    "    def has_fur_or_not(self):                                    \n",
    "        if self.has_fur:\n",
    "            print(f\"{self.name} has fur\")\n",
    "        else:\n",
    "            print(f\"{self.name} does not have fur\")\n",
    "\n",
    "class Dog(Mammal):\n",
    "    def __init__(self,name,has_fur,breed):\n",
    "        super().__init__(name,has_fur)\n",
    "        self.breed=breed\n",
    "        \n",
    "d1=Dog(\"Tikku\",True,\"Poodle\")\n",
    "\n",
    "d1.has_fur_or_not()"
   ]
  },
  {
   "cell_type": "code",
   "execution_count": 36,
   "id": "81f377ea",
   "metadata": {},
   "outputs": [
    {
     "name": "stdout",
     "output_type": "stream",
     "text": [
      "Balance: 5500\n",
      "Current Balance: 4500\n",
      "Bank Fees: 225.0\n",
      "Account Number:  1818\n",
      "Name: Abc\n",
      "Balnce: 4500\n"
     ]
    }
   ],
   "source": [
    "class Bank:\n",
    "    def __init__(self,acc_no,name,balance):\n",
    "        self.acc_no=acc_no\n",
    "        self.name=name\n",
    "        self.balance=balance\n",
    "    \n",
    "    def deposit(self,amt):\n",
    "        self.amt=amt\n",
    "        self.balance+=self.amt\n",
    "        print(\"Balance:\",self.balance)\n",
    "    \n",
    "    def withdraw(self,amt):\n",
    "        self.amt=amt\n",
    "        if self.balance>self.amt:\n",
    "            self.balance-=self.amt\n",
    "        else:\n",
    "            print(\"Insuffient Funds\")\n",
    "        print(\"Current Balance:\",self.balance)\n",
    "        \n",
    "    def bank_fees(self):\n",
    "        b_fees=self.balance*0.05\n",
    "        print(\"Bank Fees:\",b_fees)\n",
    "    \n",
    "    def display(self):\n",
    "        print(\"Account Number: \",self.acc_no)\n",
    "        print(\"Name:\",self.name)\n",
    "        print(\"Balnce:\",self.balance)\n",
    "\n",
    "b=Bank(1818,\"Abc\",5000)\n",
    "b.deposit(500)\n",
    "b.withdraw(1000)\n",
    "b.bank_fees()\n",
    "b.display()\n",
    "\n"
   ]
  },
  {
   "cell_type": "code",
   "execution_count": null,
   "id": "eb308a81",
   "metadata": {},
   "outputs": [],
   "source": []
  }
 ],
 "metadata": {
  "kernelspec": {
   "display_name": "Python 3 (ipykernel)",
   "language": "python",
   "name": "python3"
  },
  "language_info": {
   "codemirror_mode": {
    "name": "ipython",
    "version": 3
   },
   "file_extension": ".py",
   "mimetype": "text/x-python",
   "name": "python",
   "nbconvert_exporter": "python",
   "pygments_lexer": "ipython3",
   "version": "3.9.13"
  }
 },
 "nbformat": 4,
 "nbformat_minor": 5
}
